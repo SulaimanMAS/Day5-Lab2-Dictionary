{
 "cells": [
  {
   "cell_type": "code",
   "execution_count": null,
   "id": "74a263ba",
   "metadata": {},
   "outputs": [],
   "source": [
    "phonDict = {\n",
    "    1111111111 : 'Ahmed',\n",
    "    2222222222 : 'Mohammed' ,\n",
    "    3333333333 : 'Khadijah' , \n",
    "    4444444444 : \"Abdullah\",\n",
    "    5555555555 : 'Rawan' , \n",
    "    6666666666 : \"Faisal\" , \n",
    "    7777777777 : \"Layla\"\n",
    "}"
   ]
  },
  {
   "cell_type": "code",
   "execution_count": null,
   "id": "c5df8b80",
   "metadata": {},
   "outputs": [],
   "source": [
    "x = input(\"Please enter the phone number: \")\n",
    "if x.isdigit() and len(x) == 10:\n",
    "    x = int(x)\n",
    "    print(phonDict.get(x , \"Sorry, the number is not found\"))\n",
    "else:\n",
    "    print(\"This is invalid number\")"
   ]
  }
 ],
 "metadata": {
  "kernelspec": {
   "display_name": "Python 3 (ipykernel)",
   "language": "python",
   "name": "python3"
  },
  "language_info": {
   "codemirror_mode": {
    "name": "ipython",
    "version": 3
   },
   "file_extension": ".py",
   "mimetype": "text/x-python",
   "name": "python",
   "nbconvert_exporter": "python",
   "pygments_lexer": "ipython3",
   "version": "3.9.13"
  }
 },
 "nbformat": 4,
 "nbformat_minor": 5
}
